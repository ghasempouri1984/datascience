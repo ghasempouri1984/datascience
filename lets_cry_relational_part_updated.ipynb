{
 "cells": [
  {
   "cell_type": "markdown",
   "metadata": {
    "pycharm": {
     "name": "#%% md\n"
    }
   },
   "source": [
    "# ... project description ...\n",
    "https://github.com/comp-data/2021-2022/tree/main/docs/project"
   ]
  },
  {
   "cell_type": "markdown",
   "metadata": {
    "pycharm": {
     "name": "#%% md\n"
    }
   },
   "source": [
    "# What is done for Relational Database and Queries:"
   ]
  },
  {
   "cell_type": "markdown",
   "metadata": {
    "pycharm": {
     "name": "#%% md\n"
    }
   },
   "source": [
    "### Creating Database publications.db and Tables \n",
    "#### with CSV relational_publications.csv\n",
    "#### with JSON relational_other_data.json"
   ]
  },
  {
   "cell_type": "code",
   "execution_count": 2,
   "metadata": {
    "pycharm": {
     "name": "#%%\n"
    }
   },
   "outputs": [],
   "source": [
    "from sqlite3 import connect\n",
    "\n",
    "with connect(\"publications6.db\") as con:\n",
    "    con.commit()  \n",
    "    cursor = con.cursor()"
   ]
  },
  {
   "cell_type": "markdown",
   "metadata": {
    "pycharm": {
     "name": "#%% md\n"
    }
   },
   "source": [
    "### CSV..."
   ]
  },
  {
   "cell_type": "markdown",
   "metadata": {
    "collapsed": false,
    "pycharm": {
     "name": "#%% md\n"
    }
   },
   "source": [
    "'''\n",
    "csv_file = open(\"./data/relational_publications.csv\", encoding='utf-8')\n",
    "contents = csv.reader(csv_file)\n",
    "'''"
   ]
  },
  {
   "cell_type": "code",
   "execution_count": 38,
   "outputs": [
    {
     "data": {
      "text/plain": "                                    id  \\\n0              doi:10.1162/qss_a_00023   \n1       doi:10.1007/s11192-019-03217-6   \n2       doi:10.1007/s11192-019-03311-9   \n3            doi:10.1038/sdata.2016.18   \n4     doi:10.1371/journal.pbio.3000385   \n..                                 ...   \n495         doi:10.3390/admsci10030069   \n496     doi:10.1186/s12888-020-02825-4   \n497  doi:10.1080/00472778.2020.1776578   \n498     doi:10.1007/s11301-020-00196-4   \n499  doi:10.1080/08989621.2020.1836620   \n\n                                                 title             type  \\\n0    Opencitations, An Infrastructure Organization ...  journal-article   \n1    Software Review: Coci, The Opencitations Index...  journal-article   \n2    Nine Million Book Items And Eleven Million Cit...  journal-article   \n3    The Fair Guiding Principles For Scientific Dat...  journal-article   \n4    The Nih Open Citation Collection: A Public Acc...  journal-article   \n..                                                 ...              ...   \n495  Performance Analysis And Science Mapping Of In...  journal-article   \n496  Mapping The Literature On Parents With Mental ...  journal-article   \n497  Evolution Of The Entrepreneurship And Innovati...  journal-article   \n498  Intellectual Structure Of Management Innovatio...  journal-article   \n499  A Bibliometric Analysis Of Academic Misconduct...  journal-article   \n\n    publication_year issue volume chapter  \\\n0               2020     1      1           \n1               2019     2    121           \n2               2019     2    122           \n3               2016     1      3           \n4               2019    10     17           \n..               ...   ...    ...     ...   \n495             2020     3     10           \n496             2020     1     20           \n497             2020                        \n498             2020     3     71           \n499             2020     6     28           \n\n                        publication_venue venue_type      publisher event  \n0            Quantitative Science Studies    journal   crossref:281        \n1                          Scientometrics    journal   crossref:297        \n2                          Scientometrics    journal   crossref:297        \n3                         Scientific Data    journal   crossref:297        \n4                            Plos Biology    journal   crossref:340        \n..                                    ...        ...            ...   ...  \n495               Administrative Sciences    journal  crossref:1968        \n496                        Bmc Psychiatry    journal   crossref:297        \n497  Journal Of Small Business Management    journal   crossref:301        \n498           Management Review Quarterly    journal   crossref:297        \n499            Accountability In Research    journal   crossref:301        \n\n[500 rows x 11 columns]",
      "text/html": "<div>\n<style scoped>\n    .dataframe tbody tr th:only-of-type {\n        vertical-align: middle;\n    }\n\n    .dataframe tbody tr th {\n        vertical-align: top;\n    }\n\n    .dataframe thead th {\n        text-align: right;\n    }\n</style>\n<table border=\"1\" class=\"dataframe\">\n  <thead>\n    <tr style=\"text-align: right;\">\n      <th></th>\n      <th>id</th>\n      <th>title</th>\n      <th>type</th>\n      <th>publication_year</th>\n      <th>issue</th>\n      <th>volume</th>\n      <th>chapter</th>\n      <th>publication_venue</th>\n      <th>venue_type</th>\n      <th>publisher</th>\n      <th>event</th>\n    </tr>\n  </thead>\n  <tbody>\n    <tr>\n      <th>0</th>\n      <td>doi:10.1162/qss_a_00023</td>\n      <td>Opencitations, An Infrastructure Organization ...</td>\n      <td>journal-article</td>\n      <td>2020</td>\n      <td>1</td>\n      <td>1</td>\n      <td></td>\n      <td>Quantitative Science Studies</td>\n      <td>journal</td>\n      <td>crossref:281</td>\n      <td></td>\n    </tr>\n    <tr>\n      <th>1</th>\n      <td>doi:10.1007/s11192-019-03217-6</td>\n      <td>Software Review: Coci, The Opencitations Index...</td>\n      <td>journal-article</td>\n      <td>2019</td>\n      <td>2</td>\n      <td>121</td>\n      <td></td>\n      <td>Scientometrics</td>\n      <td>journal</td>\n      <td>crossref:297</td>\n      <td></td>\n    </tr>\n    <tr>\n      <th>2</th>\n      <td>doi:10.1007/s11192-019-03311-9</td>\n      <td>Nine Million Book Items And Eleven Million Cit...</td>\n      <td>journal-article</td>\n      <td>2019</td>\n      <td>2</td>\n      <td>122</td>\n      <td></td>\n      <td>Scientometrics</td>\n      <td>journal</td>\n      <td>crossref:297</td>\n      <td></td>\n    </tr>\n    <tr>\n      <th>3</th>\n      <td>doi:10.1038/sdata.2016.18</td>\n      <td>The Fair Guiding Principles For Scientific Dat...</td>\n      <td>journal-article</td>\n      <td>2016</td>\n      <td>1</td>\n      <td>3</td>\n      <td></td>\n      <td>Scientific Data</td>\n      <td>journal</td>\n      <td>crossref:297</td>\n      <td></td>\n    </tr>\n    <tr>\n      <th>4</th>\n      <td>doi:10.1371/journal.pbio.3000385</td>\n      <td>The Nih Open Citation Collection: A Public Acc...</td>\n      <td>journal-article</td>\n      <td>2019</td>\n      <td>10</td>\n      <td>17</td>\n      <td></td>\n      <td>Plos Biology</td>\n      <td>journal</td>\n      <td>crossref:340</td>\n      <td></td>\n    </tr>\n    <tr>\n      <th>...</th>\n      <td>...</td>\n      <td>...</td>\n      <td>...</td>\n      <td>...</td>\n      <td>...</td>\n      <td>...</td>\n      <td>...</td>\n      <td>...</td>\n      <td>...</td>\n      <td>...</td>\n      <td>...</td>\n    </tr>\n    <tr>\n      <th>495</th>\n      <td>doi:10.3390/admsci10030069</td>\n      <td>Performance Analysis And Science Mapping Of In...</td>\n      <td>journal-article</td>\n      <td>2020</td>\n      <td>3</td>\n      <td>10</td>\n      <td></td>\n      <td>Administrative Sciences</td>\n      <td>journal</td>\n      <td>crossref:1968</td>\n      <td></td>\n    </tr>\n    <tr>\n      <th>496</th>\n      <td>doi:10.1186/s12888-020-02825-4</td>\n      <td>Mapping The Literature On Parents With Mental ...</td>\n      <td>journal-article</td>\n      <td>2020</td>\n      <td>1</td>\n      <td>20</td>\n      <td></td>\n      <td>Bmc Psychiatry</td>\n      <td>journal</td>\n      <td>crossref:297</td>\n      <td></td>\n    </tr>\n    <tr>\n      <th>497</th>\n      <td>doi:10.1080/00472778.2020.1776578</td>\n      <td>Evolution Of The Entrepreneurship And Innovati...</td>\n      <td>journal-article</td>\n      <td>2020</td>\n      <td></td>\n      <td></td>\n      <td></td>\n      <td>Journal Of Small Business Management</td>\n      <td>journal</td>\n      <td>crossref:301</td>\n      <td></td>\n    </tr>\n    <tr>\n      <th>498</th>\n      <td>doi:10.1007/s11301-020-00196-4</td>\n      <td>Intellectual Structure Of Management Innovatio...</td>\n      <td>journal-article</td>\n      <td>2020</td>\n      <td>3</td>\n      <td>71</td>\n      <td></td>\n      <td>Management Review Quarterly</td>\n      <td>journal</td>\n      <td>crossref:297</td>\n      <td></td>\n    </tr>\n    <tr>\n      <th>499</th>\n      <td>doi:10.1080/08989621.2020.1836620</td>\n      <td>A Bibliometric Analysis Of Academic Misconduct...</td>\n      <td>journal-article</td>\n      <td>2020</td>\n      <td>6</td>\n      <td>28</td>\n      <td></td>\n      <td>Accountability In Research</td>\n      <td>journal</td>\n      <td>crossref:301</td>\n      <td></td>\n    </tr>\n  </tbody>\n</table>\n<p>500 rows × 11 columns</p>\n</div>"
     },
     "execution_count": 38,
     "metadata": {},
     "output_type": "execute_result"
    }
   ],
   "source": [
    "import pandas as pd\n",
    "from pandas import read_csv, Series\n",
    "import csv\n",
    "\n",
    "csv_file = open(\"./data/relational_publications.csv\", encoding=\"utf-8\")\n",
    "contents = csv.reader(csv_file)\n",
    "\n",
    "csv_file = pd.read_csv(\"./data/relational_publications.csv\", keep_default_na=False,\n",
    "                        dtype={\n",
    "                                    \"id\": \"string\",\n",
    "                                    \"title\": \"string\",\n",
    "                                    \"type\": \"string\",\n",
    "                                    \"publication_year\": \"string\",\n",
    "                                    \"issue\": \"string\",\n",
    "                                    \"volume\": \"string\",\n",
    "                                    \"chapter\": \"string\",\n",
    "                                    \"publication_venue\": \"string\",\n",
    "                                    \"venue_type\": \"string\",\n",
    "                                    \"publisher\": \"string\",\n",
    "                                    \"event\": \"string\"\n",
    "\n",
    "                        },encoding=\"utf-8\")\n",
    "\n",
    "# Create a new column with internal identifiers for each publication\n",
    "#csvfile_internal_id = []\n",
    "#for idx, row in csv_file.iterrows():\n",
    "#    csvfile_internal_id.append(\"publication-\" + str(idx))\n",
    "#csv_file.insert(0, \"internalId\", Series(csvfile_internal_id, dtype=\"string\"))\n",
    "csv_file"
   ],
   "metadata": {
    "collapsed": false,
    "pycharm": {
     "name": "#%%\n"
    }
   }
  },
  {
   "cell_type": "code",
   "execution_count": 39,
   "outputs": [],
   "source": [
    "create_csvfile = '''\n",
    "DROP TABLE IF EXISTS cvsfile;\n",
    "CREATE TABLE IF NOT EXISTS csvfile\n",
    "               (id, title, type, publication_year ,issue, volume, chapter, publication_venue, venue_type, publisher,event\n",
    "              );\n",
    "              '''"
   ],
   "metadata": {
    "collapsed": false,
    "pycharm": {
     "name": "#%%\n"
    }
   }
  },
  {
   "cell_type": "code",
   "execution_count": 40,
   "outputs": [
    {
     "data": {
      "text/plain": "<sqlite3.Cursor at 0x160e3b76b90>"
     },
     "execution_count": 40,
     "metadata": {},
     "output_type": "execute_result"
    }
   ],
   "source": [
    "cursor.executescript(create_csvfile)"
   ],
   "metadata": {
    "collapsed": false,
    "pycharm": {
     "name": "#%%\n"
    }
   }
  },
  {
   "cell_type": "code",
   "execution_count": null,
   "outputs": [],
   "source": [],
   "metadata": {
    "collapsed": false,
    "pycharm": {
     "name": "#%%\n"
    }
   }
  },
  {
   "cell_type": "code",
   "execution_count": 41,
   "metadata": {
    "collapsed": false,
    "pycharm": {
     "name": "#%%\n"
    }
   },
   "outputs": [
    {
     "data": {
      "text/plain": "<sqlite3.Cursor at 0x160e3b76b90>"
     },
     "execution_count": 41,
     "metadata": {},
     "output_type": "execute_result"
    }
   ],
   "source": [
    "\n",
    "insert_records = \"INSERT INTO csvfile (id, title, type, publication_year, issue, volume, chapter, publication_venue, venue_type, publisher, event) VALUES(?,?,?,?,?,?,?,?,?,?,?)\"\n",
    "\n",
    "cursor.executemany(insert_records, contents)"
   ]
  },
  {
   "cell_type": "code",
   "execution_count": 42,
   "outputs": [
    {
     "data": {
      "text/plain": "<sqlite3.Cursor at 0x160e3b76b90>"
     },
     "execution_count": 42,
     "metadata": {},
     "output_type": "execute_result"
    }
   ],
   "source": [
    "cursor.executescript(create_csvfile)"
   ],
   "metadata": {
    "collapsed": false,
    "pycharm": {
     "name": "#%%\n"
    }
   }
  },
  {
   "cell_type": "markdown",
   "metadata": {
    "pycharm": {
     "name": "#%% md\n"
    }
   },
   "source": [
    "#### ... finished with CSV ..."
   ]
  },
  {
   "cell_type": "markdown",
   "metadata": {
    "pycharm": {
     "name": "#%% md\n"
    }
   },
   "source": [
    "### Creating tables from JSON"
   ]
  },
  {
   "cell_type": "code",
   "execution_count": 4,
   "metadata": {
    "pycharm": {
     "name": "#%%\n"
    }
   },
   "outputs": [],
   "source": [
    "from json import load\n",
    "import json\n",
    "import pandas as pd\n",
    "\n",
    "# importing authors from JSON\n",
    "\n",
    "from collections import deque\n",
    "\n",
    "with open(\"./data/relational_other_data.json\", \"r\", encoding=\"utf-8\") as f:\n",
    "    json_doc = load(f)\n",
    "#print(type(json_doc))\n",
    "\n",
    "# read just authors\n",
    "\n",
    "authors = json_doc[\"authors\"]\n",
    "\n",
    "# create the dataframe from json\n",
    "\n",
    "df_authors=pd.DataFrame(authors.items(),columns=['doi','author']).explode('author')\n",
    "\n",
    "df_authors=pd.json_normalize(json.loads(df_authors.to_json(orient=\"records\")))\n",
    "df_authors.rename(columns={\"author.family\":\"family_name\",\"author.given\":\"given_name\",\"author.orcid\":\"orc_id\"}, inplace = True)\n",
    "\n",
    "df_authors=pd.DataFrame(df_authors)"
   ]
  },
  {
   "cell_type": "code",
   "execution_count": null,
   "outputs": [],
   "source": [],
   "metadata": {
    "collapsed": false,
    "pycharm": {
     "name": "#%%\n"
    }
   }
  },
  {
   "cell_type": "code",
   "execution_count": 3,
   "metadata": {
    "pycharm": {
     "name": "#%%\n"
    }
   },
   "outputs": [
    {
     "ename": "NameError",
     "evalue": "name 'con' is not defined",
     "output_type": "error",
     "traceback": [
      "\u001B[1;31m---------------------------------------------------------------------------\u001B[0m",
      "\u001B[1;31mNameError\u001B[0m                                 Traceback (most recent call last)",
      "Input \u001B[1;32mIn [3]\u001B[0m, in \u001B[0;36m<cell line: 1>\u001B[1;34m()\u001B[0m\n\u001B[1;32m----> 1\u001B[0m cursor \u001B[38;5;241m=\u001B[39m \u001B[43mcon\u001B[49m\u001B[38;5;241m.\u001B[39mcursor()\n\u001B[0;32m      2\u001B[0m \u001B[38;5;28;01mfrom\u001B[39;00m \u001B[38;5;21;01mpandasql\u001B[39;00m \u001B[38;5;28;01mimport\u001B[39;00m sqldf\n\u001B[0;32m      4\u001B[0m \u001B[38;5;28;01mdef\u001B[39;00m \u001B[38;5;21mpysqldf\u001B[39m(q):\n",
      "\u001B[1;31mNameError\u001B[0m: name 'con' is not defined"
     ]
    }
   ],
   "source": [
    "cursor = con.cursor()\n",
    "from pandasql import sqldf\n",
    "\n",
    "def pysqldf(q):\n",
    "    \"\"\"this function eliminates the need to include locals/globals all the time\"\"\"\n",
    "    return sqldf(q, globals())"
   ]
  },
  {
   "cell_type": "markdown",
   "metadata": {
    "pycharm": {
     "name": "#%% md\n"
    }
   },
   "source": [
    "#### Authors from JSON"
   ]
  },
  {
   "cell_type": "code",
   "execution_count": 45,
   "metadata": {
    "pycharm": {
     "name": "#%%\n"
    }
   },
   "outputs": [],
   "source": [
    "create_authors = '''\n",
    "DROP TABLE IF EXISTS authors;\n",
    "\n",
    "CREATE TABLE IF NOT EXISTS authors (\n",
    "    orc_id      TEXT PRIMARY KEY,\n",
    "    doi         TEXT,\n",
    "    family_name TEXT,\n",
    "    given_name  TEXT\n",
    "\n",
    ");\n",
    "'''"
   ]
  },
  {
   "cell_type": "code",
   "execution_count": 46,
   "metadata": {
    "pycharm": {
     "name": "#%%\n"
    }
   },
   "outputs": [
    {
     "data": {
      "text/plain": "<sqlite3.Cursor at 0x160e3ba8d50>"
     },
     "execution_count": 46,
     "metadata": {},
     "output_type": "execute_result"
    }
   ],
   "source": [
    "cursor.executescript(create_authors)"
   ]
  },
  {
   "cell_type": "code",
   "execution_count": 47,
   "metadata": {
    "pycharm": {
     "name": "#%%\n"
    }
   },
   "outputs": [
    {
     "data": {
      "text/plain": "1138"
     },
     "execution_count": 47,
     "metadata": {},
     "output_type": "execute_result"
    }
   ],
   "source": [
    "pysqldf('''select doi ,\n",
    "         orc_id, family_name,\n",
    "         given_name from df_authors;''').to_sql('authors',\n",
    "                                               con, index=False,\n",
    "                                               if_exists='replace')"
   ]
  },
  {
   "cell_type": "markdown",
   "metadata": {
    "pycharm": {
     "name": "#%% md\n"
    }
   },
   "source": [
    "#### Publisher from JSON"
   ]
  },
  {
   "cell_type": "code",
   "execution_count": 48,
   "metadata": {
    "pycharm": {
     "name": "#%%\n"
    }
   },
   "outputs": [],
   "source": [
    "### importing publisher JSON\n",
    "\n",
    "# importing publisher JSON\n",
    "\n",
    "# read just publishers\n",
    "\n",
    "publisher = json_doc[\"publishers\"]\n",
    "\n",
    "# create the dataframe from json\n",
    "\n",
    "df_publishers = pd.DataFrame(publisher.items(), columns=['crossref', 'name'])\n",
    "\n",
    "df_publishers = pd.json_normalize(json.loads(df_publishers.to_json(orient=\"records\")))\n",
    "df_publishers.rename(columns={\"name.id\": \"id\", \"name.name\": \"name\"}, inplace=True)"
   ]
  },
  {
   "cell_type": "code",
   "execution_count": 49,
   "metadata": {
    "pycharm": {
     "name": "#%%\n"
    }
   },
   "outputs": [],
   "source": [
    "create_publishers = '''\n",
    "DROP TABLE IF EXISTS publishers;\n",
    "\n",
    "CREATE TABLE IF NOT EXISTS publishers (\n",
    "    crossref    TEXT PRIMARY KEY,\n",
    "    name TEXT\n",
    "   );\n",
    "'''"
   ]
  },
  {
   "cell_type": "code",
   "execution_count": 50,
   "metadata": {
    "pycharm": {
     "name": "#%%\n"
    }
   },
   "outputs": [
    {
     "data": {
      "text/plain": "<sqlite3.Cursor at 0x160e3ba8d50>"
     },
     "execution_count": 50,
     "metadata": {},
     "output_type": "execute_result"
    }
   ],
   "source": [
    "cursor.executescript(create_publishers)"
   ]
  },
  {
   "cell_type": "code",
   "execution_count": 51,
   "metadata": {
    "pycharm": {
     "name": "#%%\n"
    }
   },
   "outputs": [
    {
     "data": {
      "text/plain": "32"
     },
     "execution_count": 51,
     "metadata": {},
     "output_type": "execute_result"
    }
   ],
   "source": [
    "pysqldf('''select crossref ,\n",
    "           name from df_publishers;''').to_sql('publishers',\n",
    "                                               con, index=False,\n",
    "                                               if_exists='replace')"
   ]
  },
  {
   "cell_type": "markdown",
   "metadata": {
    "pycharm": {
     "name": "#%% md\n"
    }
   },
   "source": [
    "#### References from JSON"
   ]
  },
  {
   "cell_type": "code",
   "execution_count": 52,
   "metadata": {
    "pycharm": {
     "name": "#%%\n"
    }
   },
   "outputs": [],
   "source": [
    "references = json_doc[\"references\"]\n",
    "\n",
    "# create the dataframe from json\n",
    "\n",
    "df_references = pd.DataFrame(references.items(), columns=['doi', 'refid']).explode('refid')\n",
    "\n",
    "df_references = pd.json_normalize(json.loads(df_references.to_json(orient=\"records\")))\n",
    "\n",
    "#df_publishers.rename(columns={\"name.id\": \"id\", \"name.name\": \"name\"}, inplace=True)"
   ]
  },
  {
   "cell_type": "code",
   "execution_count": 55,
   "metadata": {
    "pycharm": {
     "name": "#%%\n"
    }
   },
   "outputs": [],
   "source": [
    "create_references = '''\n",
    "DROP TABLE IF EXISTS references_json;\n",
    "\n",
    "CREATE TABLE IF NOT EXISTS references_json (\n",
    "    doi    TEXT,\n",
    "    refid TEXT\n",
    "   );\n",
    "'''"
   ]
  },
  {
   "cell_type": "code",
   "execution_count": 56,
   "metadata": {
    "pycharm": {
     "name": "#%%\n"
    }
   },
   "outputs": [
    {
     "data": {
      "text/plain": "<sqlite3.Cursor at 0x160e3ba8d50>"
     },
     "execution_count": 56,
     "metadata": {},
     "output_type": "execute_result"
    }
   ],
   "source": [
    "cursor.executescript(create_references)\n"
   ]
  },
  {
   "cell_type": "code",
   "execution_count": 57,
   "metadata": {
    "pycharm": {
     "name": "#%%\n"
    }
   },
   "outputs": [
    {
     "data": {
      "text/plain": "567"
     },
     "execution_count": 57,
     "metadata": {},
     "output_type": "execute_result"
    }
   ],
   "source": [
    "pysqldf('''select doi ,\n",
    "           refid from df_references;''').to_sql('references_json',\n",
    "                                               con, index=False,\n",
    "                                               if_exists='replace')"
   ]
  },
  {
   "cell_type": "code",
   "execution_count": 6,
   "outputs": [
    {
     "data": {
      "text/plain": "[('doi:10.1002/adom.202100519', 1),\n ('doi:10.1002/agj2.20628', 1),\n ('doi:10.1002/asi.23267', 1),\n ('doi:10.1002/asi.23630', 1),\n ('doi:10.1002/asi.23770', 1),\n ('doi:10.1002/asi.24130', 1),\n ('doi:10.1002/asi.24171', 1),\n ('doi:10.1002/asi.24301', 1),\n ('doi:10.1002/bbb.2290', 1),\n ('doi:10.1002/cjce.23344', 1),\n ('doi:10.1002/cjce.23346', 1),\n ('doi:10.1002/cjce.23466', 1),\n ('doi:10.1002/cjce.23530', 1),\n ('doi:10.1002/cjce.23913', 1),\n ('doi:10.1002/cjce.24089', 1),\n ('doi:10.1002/cjce.24127', 1),\n ('doi:10.1002/cjce.24216', 1),\n ('doi:10.1002/csr.1792', 1),\n ('doi:10.1002/ece3.7980', 1),\n ('doi:10.1002/hfm.20889', 1),\n ('doi:10.1002/jclp.23227', 1),\n ('doi:10.1002/kpm.1658', 1),\n ('doi:10.1002/leap.1114', 1),\n ('doi:10.1002/mabi.202100103', 1),\n ('doi:10.1002/pri.1760', 1),\n ('doi:10.1002/rra.3431', 1),\n ('doi:10.1002/sd.1927', 1),\n ('doi:10.1002/sdr.1628', 1),\n ('doi:10.1002/sres.2731', 1),\n ('doi:10.1007/978-3-030-16187-3_20', 1),\n ('doi:10.1007/978-3-030-53036-5_30', 1),\n ('doi:10.1007/978-3-030-54956-5_2', 2),\n ('doi:10.1007/978-3-030-54956-5_9', 1),\n ('doi:10.1007/978-3-030-55814-7_15', 2),\n ('doi:10.1007/978-3-030-58799-4_49', 1),\n ('doi:10.1007/978-3-030-59194-6_37', 1),\n ('doi:10.1007/978-3-030-61244-3_16', 1),\n ('doi:10.1007/978-3-030-61244-3_6', 1),\n ('doi:10.1007/978-3-030-61244-3_7', 1),\n ('doi:10.1007/978-3-030-62466-8_28', 3),\n ('doi:10.1007/978-3-030-71903-6_32', 1),\n ('doi:10.1007/978-3-030-75722-9_7', 1),\n ('doi:10.1007/978-3-030-77385-4_37', 1),\n ('doi:10.1007/978-3-030-78570-3_4', 1),\n ('doi:10.1007/978-3-030-84825-5_11', 2),\n ('doi:10.1007/978-3-030-91669-5_24', 1),\n ('doi:10.1007/978-3-319-91473-2_1', 1),\n ('doi:10.1007/978-981-16-4760-4_1', 1),\n ('doi:10.1007/978-981-16-6128-0_25', 1),\n ('doi:10.1007/s00170-018-2617-2', 1),\n ('doi:10.1007/s00210-019-01629-y', 1),\n ('doi:10.1007/s00217-019-03321-0', 1),\n ('doi:10.1007/s00296-021-04988-z', 1),\n ('doi:10.1007/s00484-019-01695-0', 1),\n ('doi:10.1007/s00500-018-3168-z', 1),\n ('doi:10.1007/s00521-020-05395-4', 3),\n ('doi:10.1007/s10098-018-1624-1', 1),\n ('doi:10.1007/s10457-017-0107-4', 1),\n ('doi:10.1007/s10457-018-0231-9', 1),\n ('doi:10.1007/s10551-021-04856-7', 1),\n ('doi:10.1007/s10639-021-10720-y', 1),\n ('doi:10.1007/s10660-021-09464-1', 1),\n ('doi:10.1007/s10661-020-08793-2', 1),\n ('doi:10.1007/s10668-020-01179-x', 1),\n ('doi:10.1007/s10668-021-01293-4', 1),\n ('doi:10.1007/s10669-018-9687-4', 1),\n ('doi:10.1007/s10676-018-9457-5', 1),\n ('doi:10.1007/s10843-017-0213-4', 1),\n ('doi:10.1007/s10902-018-0022-z', 1),\n ('doi:10.1007/s10916-020-01691-7', 1),\n ('doi:10.1007/s10961-017-9637-1', 1),\n ('doi:10.1007/s10995-019-02772-x', 1),\n ('doi:10.1007/s10997-020-09554-6', 1),\n ('doi:10.1007/s11042-019-08000-6', 1),\n ('doi:10.1007/s11119-018-9569-2', 1),\n ('doi:10.1007/s11126-020-09858-8', 1),\n ('doi:10.1007/s11135-017-0522-7', 1),\n ('doi:10.1007/s11135-018-0811-9', 1),\n ('doi:10.1007/s11192-016-1879-4', 1),\n ('doi:10.1007/s11192-016-1971-9', 1),\n ('doi:10.1007/s11192-016-2071-6', 1),\n ('doi:10.1007/s11192-016-2132-x', 1),\n ('doi:10.1007/s11192-016-2194-9', 1),\n ('doi:10.1007/s11192-016-2215-8', 1),\n ('doi:10.1007/s11192-017-2436-5', 1),\n ('doi:10.1007/s11192-017-2449-0', 1),\n ('doi:10.1007/s11192-017-2452-5', 1),\n ('doi:10.1007/s11192-017-2481-0', 1),\n ('doi:10.1007/s11192-017-2538-0', 1),\n ('doi:10.1007/s11192-017-2604-7', 1),\n ('doi:10.1007/s11192-017-2616-3', 1),\n ('doi:10.1007/s11192-017-2636-z', 1),\n ('doi:10.1007/s11192-018-2651-8', 1),\n ('doi:10.1007/s11192-018-2705-y', 1),\n ('doi:10.1007/s11192-018-2734-6', 1),\n ('doi:10.1007/s11192-018-2740-8', 1),\n ('doi:10.1007/s11192-018-2748-0', 1),\n ('doi:10.1007/s11192-018-2752-4', 1),\n ('doi:10.1007/s11192-018-2761-3', 1),\n ('doi:10.1007/s11192-018-2765-z', 1),\n ('doi:10.1007/s11192-018-2775-x', 1),\n ('doi:10.1007/s11192-018-2786-7', 1),\n ('doi:10.1007/s11192-018-2796-5', 1),\n ('doi:10.1007/s11192-018-2803-x', 1),\n ('doi:10.1007/s11192-018-2809-4', 1),\n ('doi:10.1007/s11192-018-2841-4', 1),\n ('doi:10.1007/s11192-018-2844-1', 1),\n ('doi:10.1007/s11192-018-2856-x', 1),\n ('doi:10.1007/s11192-018-2936-y', 1),\n ('doi:10.1007/s11192-018-2977-2', 1),\n ('doi:10.1007/s11192-018-2990-5', 1),\n ('doi:10.1007/s11192-019-03047-6', 1),\n ('doi:10.1007/s11192-019-03057-4', 1),\n ('doi:10.1007/s11192-019-03087-y', 1),\n ('doi:10.1007/s11192-019-03116-w', 1),\n ('doi:10.1007/s11192-019-03201-0', 1),\n ('doi:10.1007/s11192-019-03213-w', 1),\n ('doi:10.1007/s11192-019-03217-6', 2),\n ('doi:10.1007/s11192-019-03222-9', 1),\n ('doi:10.1007/s11192-019-03230-9', 1),\n ('doi:10.1007/s11192-019-03234-5', 2),\n ('doi:10.1007/s11192-019-03238-1', 1),\n ('doi:10.1007/s11192-019-03311-9', 1),\n ('doi:10.1007/s11192-020-03397-6', 3),\n ('doi:10.1007/s11192-020-03690-4', 2),\n ('doi:10.1007/s11192-020-03805-x', 1),\n ('doi:10.1007/s11192-021-04079-7', 2),\n ('doi:10.1007/s11192-021-04097-5', 3),\n ('doi:10.1007/s11270-021-05224-x', 1),\n ('doi:10.1007/s11270-021-05247-4', 1),\n ('doi:10.1007/s11274-021-03123-1', 1),\n ('doi:10.1007/s11301-018-0140-z', 1),\n ('doi:10.1007/s11301-019-00172-7', 1),\n ('doi:10.1007/s11301-020-00196-4', 1),\n ('doi:10.1007/s11301-021-00214-z', 1),\n ('doi:10.1007/s11356-020-11643-w', 1),\n ('doi:10.1007/s11356-020-11947-x', 1),\n ('doi:10.1007/s11356-021-13094-3', 1),\n ('doi:10.1007/s11356-021-15787-1', 1),\n ('doi:10.1007/s11356-021-15939-3', 1),\n ('doi:10.1007/s11540-021-09521-0', 2),\n ('doi:10.1007/s11575-016-0308-5', 1),\n ('doi:10.1007/s11695-020-05058-2', 1),\n ('doi:10.1007/s11846-020-00437-6', 1),\n ('doi:10.1007/s12053-016-9470-7', 1),\n ('doi:10.1007/s12078-018-9243-0', 1),\n ('doi:10.1007/s12144-021-01947-6', 2),\n ('doi:10.1007/s12145-019-00408-w', 1),\n ('doi:10.1007/s12210-021-01003-2', 1),\n ('doi:10.1007/s13132-021-00803-z', 1),\n ('doi:10.1007/s13748-021-00252-4', 1),\n ('doi:10.1007/s40200-020-00606-0', 1),\n ('doi:10.1007/s41233-021-00047-4', 1),\n ('doi:10.1007/s42690-021-00616-2', 1),\n ('doi:10.1007/s43538-021-00016-7', 1),\n ('doi:10.1016/j.aap.2018.06.010', 1),\n ('doi:10.1016/j.aller.2020.01.001', 1),\n ('doi:10.1016/j.asoc.2018.03.041', 1),\n ('doi:10.1016/j.asoc.2020.106467', 1),\n ('doi:10.1016/j.autcon.2019.01.010', 1),\n ('doi:10.1016/j.autcon.2019.02.022', 1),\n ('doi:10.1016/j.autcon.2020.103490', 1),\n ('doi:10.1016/j.bjan.2020.02.003', 1),\n ('doi:10.1016/j.buildenv.2018.12.059', 1),\n ('doi:10.1016/j.carbpol.2018.10.039', 1),\n ('doi:10.1016/j.chb.2018.07.001', 1),\n ('doi:10.1016/j.cmpb.2019.105075', 1),\n ('doi:10.1016/j.compind.2021.103458', 1),\n ('doi:10.1016/j.conbuildmat.2018.03.147', 1),\n ('doi:10.1016/j.cosrev.2020.100335', 1),\n ('doi:10.1016/j.ecolind.2020.107102', 1),\n ('doi:10.1016/j.egyr.2021.06.084', 1),\n ('doi:10.1016/j.ejor.2017.10.041', 1),\n ('doi:10.1016/j.ejor.2018.10.028', 1),\n ('doi:10.1016/j.envres.2021.111087', 1),\n ('doi:10.1016/j.foodchem.2018.06.139', 1),\n ('doi:10.1016/j.foodchem.2019.05.021', 2),\n ('doi:10.1016/j.fss.2020.03.012', 2),\n ('doi:10.1016/j.fuel.2019.116598', 1),\n ('doi:10.1016/j.geoderma.2021.115076', 1),\n ('doi:10.1016/j.heliyon.2021.e07154', 1),\n ('doi:10.1016/j.ijdrr.2021.102141', 2),\n ('doi:10.1016/j.ijggc.2021.103309', 1),\n ('doi:10.1016/j.indmarman.2020.02.022', 1),\n ('doi:10.1016/j.iref.2019.04.004', 1),\n ('doi:10.1016/j.iref.2021.08.002', 1),\n ('doi:10.1016/j.irfa.2019.101418', 2),\n ('doi:10.1016/j.jbusres.2018.12.002', 1),\n ('doi:10.1016/j.jbusres.2018.12.050', 1),\n ('doi:10.1016/j.jbusres.2019.02.050', 1),\n ('doi:10.1016/j.jbusres.2021.06.045', 2),\n ('doi:10.1016/j.jclepro.2020.122945', 1),\n ('doi:10.1016/j.jclepro.2020.124033', 1),\n ('doi:10.1016/j.jclepro.2020.125751', 1),\n ('doi:10.1016/j.jclepro.2020.125760', 1),\n ('doi:10.1016/j.jclepro.2021.126277', 1),\n ('doi:10.1016/j.jclepro.2021.126622', 1),\n ('doi:10.1016/j.jclepro.2021.127503', 1),\n ('doi:10.1016/j.jclepro.2021.127627', 1),\n ('doi:10.1016/j.jclepro.2021.128009', 1),\n ('doi:10.1016/j.jdmm.2018.06.005', 1),\n ('doi:10.1016/j.jenvman.2021.112335', 1),\n ('doi:10.1016/j.jenvman.2021.113382', 1),\n ('doi:10.1016/j.jflm.2019.07.002', 1),\n ('doi:10.1016/j.jgar.2017.11.017', 1),\n ('doi:10.1016/j.jhazmat.2020.125028', 1),\n ('doi:10.1016/j.jhazmat.2021.126361', 1),\n ('doi:10.1016/j.jhtm.2020.06.001', 1),\n ('doi:10.1016/j.jhtm.2021.04.005', 2),\n ('doi:10.1016/j.joi.2014.04.001', 1),\n ('doi:10.1016/j.joi.2014.07.006', 1),\n ('doi:10.1016/j.joi.2016.05.002', 1),\n ('doi:10.1016/j.joi.2016.07.008', 1),\n ('doi:10.1016/j.joi.2016.09.006', 1),\n ('doi:10.1016/j.joi.2018.03.005', 1),\n ('doi:10.1016/j.joi.2019.01.002', 1),\n ('doi:10.1016/j.joi.2019.100976', 1),\n ('doi:10.1016/j.joi.2020.101043', 1),\n ('doi:10.1016/j.jot.2020.04.010', 1),\n ('doi:10.1016/j.jpurol.2018.04.004', 1),\n ('doi:10.1016/j.jpurol.2021.08.003', 1),\n ('doi:10.1016/j.jsr.2021.09.002', 1),\n ('doi:10.1016/j.jup.2018.06.003', 1),\n ('doi:10.1016/j.omega.2020.102388', 2),\n ('doi:10.1016/j.orp.2020.100164', 1),\n ('doi:10.1016/j.outlook.2019.04.009', 1),\n ('doi:10.1016/j.resconrec.2018.03.005', 1),\n ('doi:10.1016/j.resconrec.2018.09.029', 1),\n ('doi:10.1016/j.respol.2018.07.005', 1),\n ('doi:10.1016/j.scitotenv.2019.135358', 1),\n ('doi:10.1016/j.scitotenv.2020.141344', 1),\n ('doi:10.1016/j.scitotenv.2020.141642', 1),\n ('doi:10.1016/j.scs.2020.102608', 1),\n ('doi:10.1016/j.socscimed.2019.112552', 1),\n ('doi:10.1016/j.solener.2020.02.013', 2),\n ('doi:10.1016/j.spc.2021.03.030', 1),\n ('doi:10.1016/j.ssci.2015.09.004', 1),\n ('doi:10.1016/j.ssci.2019.01.029', 1),\n ('doi:10.1016/j.ssci.2019.07.036', 1),\n ('doi:10.1016/j.ssci.2020.104900', 1),\n ('doi:10.1016/j.techfore.2017.03.012', 1),\n ('doi:10.1016/j.techfore.2018.07.028', 1),\n ('doi:10.1016/j.techfore.2020.120118', 1),\n ('doi:10.1016/j.techfore.2020.120377', 1),\n ('doi:10.1016/j.techfore.2021.121026', 1),\n ('doi:10.1016/j.techfore.2021.121179', 1),\n ('doi:10.1016/j.techsoc.2021.101738', 1),\n ('doi:10.1016/j.tifs.2019.01.011', 1),\n ('doi:10.1016/j.tifs.2021.08.032', 1),\n ('doi:10.1017/dmp.2015.58', 1),\n ('doi:10.1017/s003329171800363x', 1),\n ('doi:10.1017/s0269888920000065', 1),\n ('doi:10.1017/sjp.2020.40', 1),\n ('doi:10.1021/acs.analchem.9b05454', 1),\n ('doi:10.1021/acs.iecr.8b00936', 1),\n ('doi:10.1038/s41545-021-00131-4', 1),\n ('doi:10.1038/s41597-020-00749-y', 2),\n ('doi:10.1038/sdata.2016.18', 1),\n ('doi:10.1039/c8cs00117k', 1),\n ('doi:10.1057/s41599-018-0175-8', 1),\n ('doi:10.1061/(asce)co.1943-7862.0001492', 1),\n ('doi:10.1061/(asce)co.1943-7862.0001682', 1),\n ('doi:10.1061/(asce)ei.1943-5541.0000425', 1),\n ('doi:10.1061/(asce)me.1943-5479.0000722', 1),\n ('doi:10.1080/00038628.2021.1910480', 1),\n ('doi:10.1080/00131911.2019.1566212', 1),\n ('doi:10.1080/00207543.2021.1919333', 1),\n ('doi:10.1080/00472778.2020.1776578', 1),\n ('doi:10.1080/00472778.2021.1955122', 1),\n ('doi:10.1080/0194262x.2021.1937772', 1),\n ('doi:10.1080/03088839.2021.1969460', 1),\n ('doi:10.1080/03088839.2021.1972486', 1),\n ('doi:10.1080/07294360.2019.1654438', 1),\n ('doi:10.1080/08874417.2019.1601538', 1),\n ('doi:10.1080/08989621.2020.1836620', 1),\n ('doi:10.1080/09537325.2019.1645826', 1),\n ('doi:10.1080/09537325.2020.1865530', 1),\n ('doi:10.1080/09585192.2019.1661267', 1),\n ('doi:10.1080/09637486.2019.1620184', 2),\n ('doi:10.1080/10941665.2019.1567564', 1),\n ('doi:10.1080/10963758.2019.1655433', 1),\n ('doi:10.1080/10978526.2021.1930551', 1),\n ('doi:10.1080/13032917.2021.1954042', 1),\n ('doi:10.1080/13504509.2021.1881651', 1),\n ('doi:10.1080/13683500.2017.1408574', 1),\n ('doi:10.1080/14767724.2019.1665988', 1),\n ('doi:10.1080/14778238.2021.1943553', 1),\n ('doi:10.1080/14783363.2018.1468247', 1),\n ('doi:10.1080/14783363.2019.1652091', 1),\n ('doi:10.1080/1540496x.2018.1433658', 1),\n ('doi:10.1080/15440478.2019.1636742', 1),\n ('doi:10.1080/15440478.2021.1952139', 3),\n ('doi:10.1080/16549716.2018.1504398', 1),\n ('doi:10.1080/19386389.2021.1999156', 2),\n ('doi:10.1080/2157930x.2018.1439293', 1),\n ('doi:10.1080/21645515.2021.1910000', 1),\n ('doi:10.1080/23299460.2017.1387509', 1),\n ('doi:10.1080/23311975.2019.1632569', 1),\n ('doi:10.1088/1748-9326/aabf9b', 1),\n ('doi:10.1093/reseval/rvz015', 1),\n ('doi:10.1108/bij-03-2016-0031', 1),\n ('doi:10.1108/bij-05-2018-0133', 1),\n ('doi:10.1108/dta-08-2020-0179', 1),\n ('doi:10.1108/dta-10-2017-0078', 1),\n ('doi:10.1108/ecam-03-2021-0232', 1),\n ('doi:10.1108/ecam-04-2021-0287', 1),\n ('doi:10.1108/ecam-08-2018-0350', 1),\n ('doi:10.1108/ecam-09-2018-0390', 1),\n ('doi:10.1108/jdqs-08-2021-0020', 1),\n ('doi:10.1108/jfmm-02-2021-0046', 1),\n ('doi:10.1108/jic-02-2020-0054', 1),\n ('doi:10.1108/jic-05-2020-0142', 1),\n ('doi:10.1108/jsma-01-2021-0002', 1),\n ('doi:10.1108/wjemsd-06-2020-0068', 1),\n ('doi:10.1111/1758-5899.12912', 1),\n ('doi:10.1111/and.14206', 1),\n ('doi:10.1111/cobi.13726', 1),\n ('doi:10.1111/ejed.12446', 1),\n ('doi:10.1111/jan.13868', 1),\n ('doi:10.1111/joes.12270', 1),\n ('doi:10.1111/jpim.12562', 1),\n ('doi:10.1111/petr.12933', 1),\n ('doi:10.1111/pirs.12291', 1),\n ('doi:10.1111/rec.12899', 1),\n ('doi:10.1111/sms.14019', 1),\n ('doi:10.1136/bmjspcare-2021-002982', 1),\n ('doi:10.1155/2018/2607618', 1),\n ('doi:10.1155/2021/5547530', 1),\n ('doi:10.1155/2021/5568219', 1),\n ('doi:10.1155/2021/6634055', 1),\n ('doi:10.1155/2021/6657167', 1),\n ('doi:10.1155/2021/9274918', 1),\n ('doi:10.1162/qss_a_00023', 5),\n ('doi:10.1162/qss_a_00109', 1),\n ('doi:10.1162/qss_a_00112', 2),\n ('doi:10.1162/qss_a_00146', 1),\n ('doi:10.1177/0002764218766581', 1),\n ('doi:10.1177/0013916519843126', 1),\n ('doi:10.1177/0037549720944483', 1),\n ('doi:10.1177/0165551519837182', 1),\n ('doi:10.1177/03128962211035470', 1),\n ('doi:10.1177/1069031x211004234', 1),\n ('doi:10.1177/10963480211011540', 1),\n ('doi:10.1177/1354816618793762', 1),\n ('doi:10.1177/1477153519857788', 3),\n ('doi:10.1177/1534735419846401', 1),\n ('doi:10.1177/1548051821997406', 1),\n ('doi:10.1177/15533506211026411', 1),\n ('doi:10.1177/1745691620927674', 1),\n ('doi:10.1177/1847979017751484', 1),\n ('doi:10.1177/19322968211005500', 1),\n ('doi:10.1177/1937586719855336', 1),\n ('doi:10.1177/1940082919854058', 1),\n ('doi:10.1177/2059204318811786', 1),\n ('doi:10.1186/s11671-019-2994-y', 1),\n ('doi:10.1186/s12302-021-00552-5', 1),\n ('doi:10.1186/s12888-020-02825-4', 1),\n ('doi:10.1186/s12889-019-6842-x', 1),\n ('doi:10.1186/s12906-021-03354-7', 1),\n ('doi:10.1186/s12936-021-03698-y', 1),\n ('doi:10.1186/s12961-018-0298-9', 1),\n ('doi:10.1186/s12992-021-00754-9', 1),\n ('doi:10.1186/s13321-020-00448-1', 1),\n ('doi:10.1186/s40066-021-00315-8', 1),\n ('doi:10.1186/s41182-017-0073-6', 1),\n ('doi:10.1186/s41205-017-0012-5', 1),\n ('doi:10.1186/s41239-018-0101-6', 1),\n ('doi:10.1186/s41239-018-0103-4', 1),\n ('doi:10.1186/s42238-019-0004-y', 1),\n ('doi:10.12688/f1000research.12314.1', 1),\n ('doi:10.1371/journal.pbio.3000385', 1),\n ('doi:10.1371/journal.pone.0170296', 1),\n ('doi:10.1371/journal.pone.0196549', 1),\n ('doi:10.1371/journal.pone.0200929', 1),\n ('doi:10.1371/journal.pone.0216408', 1),\n ('doi:10.1371/journal.pone.0253847', 1),\n ('doi:10.15561/20755279.2021.0301', 1),\n ('doi:10.1590/1678-987320287607', 1),\n ('doi:10.1590/1806-9649-2021v28e5171', 1),\n ('doi:10.1590/1984-92302021v28n9604pt', 1),\n ('doi:10.1590/2318-08892018000300001', 1),\n ('doi:10.1590/2318-0889201931e190027', 1),\n ('doi:10.17533/udea.le.n95a344139', 1),\n ('doi:10.2147/cmar.s270099', 1),\n ('doi:10.2147/cmar.s324284', 1),\n ('doi:10.2147/jpr.s306594', 1),\n ('doi:10.2196/12625', 1),\n ('doi:10.2196/14401', 1),\n ('doi:10.2196/31097', 1),\n ('doi:10.22394/2410-132x-2021-7-1-66-84', 1),\n ('doi:10.31263/voebm.v72i2.2808', 1),\n ('doi:10.3145/epi.2021.may.05', 1),\n ('doi:10.3145/thinkepi.2021.e15e04', 4),\n ('doi:10.3233/ds-190016', 1),\n ('doi:10.3233/ds-190017', 1),\n ('doi:10.3233/ds-190023', 1),\n ('doi:10.3233/wor-213576', 3),\n ('doi:10.3390/admsci10030057', 1),\n ('doi:10.3390/admsci10030069', 1),\n ('doi:10.3390/admsci8030034', 1),\n ('doi:10.3390/agriculture11090889', 1),\n ('doi:10.3390/agronomy11081504', 1),\n ('doi:10.3390/agronomy11081557', 2),\n ('doi:10.3390/antibiotics7040102', 1),\n ('doi:10.3390/app11062767', 1),\n ('doi:10.3390/app11073015', 1),\n ('doi:10.3390/app11219997', 1),\n ('doi:10.3390/brainsci11081077', 1),\n ('doi:10.3390/catal11080913', 1),\n ('doi:10.3390/e21070694', 3),\n ('doi:10.3390/economies9030110', 2),\n ('doi:10.3390/educsci11030115', 1),\n ('doi:10.3390/educsci11040184', 1),\n ('doi:10.3390/educsci11070353', 1),\n ('doi:10.3390/en11071894', 1),\n ('doi:10.3390/en12081414', 1),\n ('doi:10.3390/en12081539', 1),\n ('doi:10.3390/en14133852', 1),\n ('doi:10.3390/en14133917', 1),\n ('doi:10.3390/en14144288', 1),\n ('doi:10.3390/en14164919', 1),\n ('doi:10.3390/en14185711', 1),\n ('doi:10.3390/f10010072', 1),\n ('doi:10.3390/f9040223', 1),\n ('doi:10.3390/ijerph16010029', 1),\n ('doi:10.3390/ijerph16111928', 1),\n ('doi:10.3390/ijerph16152788', 3),\n ('doi:10.3390/ijerph16183326', 1),\n ('doi:10.3390/ijerph18041764', 1),\n ('doi:10.3390/ijerph18084234', 1),\n ('doi:10.3390/ijerph18105143', 1),\n ('doi:10.3390/ijerph18115851', 2),\n ('doi:10.3390/ijerph18115985', 5),\n ('doi:10.3390/ijerph18116135', 3),\n ('doi:10.3390/ijerph18126187', 1),\n ('doi:10.3390/ijerph18147358', 1),\n ('doi:10.3390/ijerph18147503', 1),\n ('doi:10.3390/ijerph18179396', 1),\n ('doi:10.3390/ijfs9030035', 1),\n ('doi:10.3390/infrastructures6020021', 1),\n ('doi:10.3390/jmse9020218', 1),\n ('doi:10.3390/jmse9030266', 1),\n ('doi:10.3390/jrfm14090427', 1),\n ('doi:10.3390/jtaer16060116', 1),\n ('doi:10.3390/life11090970', 1),\n ('doi:10.3390/ma14071745', 2),\n ('doi:10.3390/membranes11080600', 1),\n ('doi:10.3390/molecules26133882', 1),\n ('doi:10.3390/molecules26144334', 1),\n ('doi:10.3390/nu11061357', 1),\n ('doi:10.3390/nu13061966', 1),\n ('doi:10.3390/plants10040768', 1),\n ('doi:10.3390/polym13121957', 2),\n ('doi:10.3390/proteomes9020029', 1),\n ('doi:10.3390/recycling6020034', 1),\n ('doi:10.3390/smartcities2030027', 1),\n ('doi:10.3390/su10030667', 1),\n ('doi:10.3390/su10030682', 1),\n ('doi:10.3390/su10041084', 1),\n ('doi:10.3390/su10124748', 1),\n ('doi:10.3390/su10124790', 1),\n ('doi:10.3390/su10124847', 1),\n ('doi:10.3390/su11030745', 1),\n ('doi:10.3390/su11030863', 1),\n ('doi:10.3390/su11040988', 1),\n ('doi:10.3390/su11051377', 1),\n ('doi:10.3390/su11061677', 1),\n ('doi:10.3390/su11092526', 1),\n ('doi:10.3390/su11113049', 2),\n ('doi:10.3390/su11133548', 1),\n ('doi:10.3390/su11154019', 1),\n ('doi:10.3390/su11164388', 1),\n ('doi:10.3390/su11174738', 1),\n ('doi:10.3390/su13020791', 1),\n ('doi:10.3390/su13031136', 1),\n ('doi:10.3390/su13031275', 1),\n ('doi:10.3390/su13042126', 1),\n ('doi:10.3390/su13116225', 1),\n ('doi:10.3390/su13126562', 3),\n ('doi:10.3390/su13158261', 1),\n ('doi:10.3390/su13168997', 1),\n ('doi:10.3390/su13179582', 1),\n ('doi:10.3390/su13179631', 2),\n ('doi:10.3390/su13179780', 1),\n ('doi:10.3390/su13179981', 1),\n ('doi:10.3390/su131810094', 1),\n ('doi:10.3390/systems9030067', 1),\n ('doi:10.3846/jcem.2021.15260', 1),\n ('doi:10.3897/bdj.9.e67671', 1),\n ('doi:10.3897/biss.4.59126', 1),\n ('doi:10.3897/neotropical.15.e52905', 1),\n ('doi:10.3897/rio.2.e9841', 1),\n ('doi:10.3897/rio.5.e35820', 1),\n ('doi:10.3989/arbor.2021.799007', 5),\n ('doi:10.4018/978-1-7998-5772-3.ch005', 1),\n ('doi:10.4018/978-1-7998-7452-2.ch016', 1),\n ('doi:10.4218/etrij.2018-0059', 1),\n ('doi:10.7250/bjrbe.2020-15.470', 1),\n ('doi:10.7717/peerj-cs.421', 3),\n ('doi:10.7717/peerj.2567', 1)]"
     },
     "execution_count": 6,
     "metadata": {},
     "output_type": "execute_result"
    }
   ],
   "source": [
    "query16=\"SELECT doi,COUNT(*) FROM references_json GROUP BY doi\"\n",
    "result16=cursor.execute(query16).fetchall()\n",
    "\n",
    "result16"
   ],
   "metadata": {
    "collapsed": false,
    "pycharm": {
     "name": "#%%\n"
    }
   }
  },
  {
   "cell_type": "code",
   "execution_count": null,
   "outputs": [],
   "source": [],
   "metadata": {
    "collapsed": false,
    "pycharm": {
     "name": "#%%\n"
    }
   }
  },
  {
   "cell_type": "markdown",
   "metadata": {
    "pycharm": {
     "name": "#%% md\n"
    }
   },
   "source": [
    "#### Venues id from JSON"
   ]
  },
  {
   "cell_type": "code",
   "execution_count": null,
   "metadata": {
    "pycharm": {
     "name": "#%%\n"
    }
   },
   "outputs": [],
   "source": [
    "venues_idjson = json_doc[\"venues_id\"]\n",
    "\n",
    "# create the dataframe from json\n",
    "\n",
    "df_venuesjson=pd.DataFrame(venues_idjson.items(),columns=['doi','issn']).explode('issn')\n",
    "\n",
    "df_venuesjson=pd.json_normalize(json.loads(df_venuesjson.to_json(orient=\"records\")))\n",
    "#df_venues.rename(columns={\"author.family\":\"family_name\",\"author.given\":\"given_name\",\"author.orcid\":\"orc_id\"}, inplace = True)\n",
    "\n",
    "df_venuesjson=pd.DataFrame(df_venuesjson)"
   ]
  },
  {
   "cell_type": "code",
   "execution_count": null,
   "metadata": {
    "pycharm": {
     "name": "#%%\n"
    }
   },
   "outputs": [],
   "source": [
    "create_venuesjson = '''\n",
    "DROP TABLE IF EXISTS venuesid_json;\n",
    "\n",
    "CREATE TABLE IF NOT EXISTS venuesid_json (\n",
    "    doi    TEXT,\n",
    "    issn TEXT PRIMARY KEY\n",
    "   );\n",
    "'''"
   ]
  },
  {
   "cell_type": "code",
   "execution_count": null,
   "metadata": {
    "pycharm": {
     "name": "#%%\n"
    }
   },
   "outputs": [],
   "source": [
    "cursor.executescript(create_venuesjson)"
   ]
  },
  {
   "cell_type": "code",
   "execution_count": null,
   "metadata": {
    "pycharm": {
     "name": "#%%\n"
    }
   },
   "outputs": [],
   "source": [
    "pysqldf('''select doi ,\n",
    "           issn from df_venuesjson;''').to_sql('venuesid_json',\n",
    "                                                con, index=False,\n",
    "                                                if_exists='replace')"
   ]
  },
  {
   "cell_type": "markdown",
   "metadata": {
    "pycharm": {
     "name": "#%% md\n"
    }
   },
   "source": [
    "# ... finished with tables ...."
   ]
  },
  {
   "cell_type": "markdown",
   "metadata": {
    "pycharm": {
     "name": "#%% md\n"
    }
   },
   "source": [
    "#### Attempting creating methods that project requires.\n",
    "#### They are not Class now... Only functionality"
   ]
  },
  {
   "cell_type": "code",
   "execution_count": null,
   "metadata": {
    "pycharm": {
     "name": "#%%\n"
    }
   },
   "outputs": [],
   "source": [
    "#getProceedingsByEvent --> deve diventare il metodo della sua classe\n",
    "\n",
    "con.commit()\n",
    "query= \"SELECT * FROM csvfile WHERE publication_venue LIKE ? COLLATE NOCASE\"\n",
    "some_query_value = '%web%'\n",
    "result= cursor.execute(query,[some_query_value]).fetchall()\n",
    "df_getProceedingsByEvent = pd.DataFrame(result)\n",
    "\n",
    "df_getProceedingsByEvent"
   ]
  },
  {
   "cell_type": "code",
   "execution_count": null,
   "metadata": {
    "pycharm": {
     "name": "#%%\n"
    }
   },
   "outputs": [],
   "source": [
    "#getPublicationsPublishedInYear --> by the way it should be programmed as method \n",
    "#in order to use in Class\n",
    "\n",
    "query1= \"SELECT * FROM csvfile WHERE publication_year= '2020'\"\n",
    "result1= cursor.execute(query1).fetchall()\n",
    "df_getPublicationsPublishedInYear = pd.DataFrame(result1)\n",
    "\n",
    "#df_getPublicationsPublishedInYear"
   ]
  },
  {
   "cell_type": "code",
   "execution_count": null,
   "metadata": {
    "pycharm": {
     "name": "#%%\n"
    }
   },
   "outputs": [],
   "source": [
    "#getPublicationsByAuthorId --> deve diventare il metodo della sua classe\n",
    "\n",
    "query3= \"SELECT* FROM authors WHERE orc_id='0000-0001-9857-1511'\"\n",
    "\n",
    "result=cursor.execute(query3).fetchall()\n",
    "df_getPublicationsByAuthorId = pd.DataFrame(result)\n",
    "\n",
    "df_getPublicationsByAuthorId"
   ]
  },
  {
   "cell_type": "code",
   "execution_count": null,
   "metadata": {
    "pycharm": {
     "name": "#%%\n"
    }
   },
   "outputs": [],
   "source": [
    "#getPublicationsByAuthorName --> deve diventare il metodo della sua classe\n",
    "query7= \"SELECT* FROM authors WHERE given_name LIKE ? COLLATE NOCASE\"\n",
    "value= '%hara%'\n",
    "result7= cursor.execute(query7,[value]).fetchall()\n",
    "df_getPublicationsByAuthorName = pd.DataFrame(result7)\n",
    "\n",
    "df_getPublicationsByAuthorName"
   ]
  },
  {
   "cell_type": "code",
   "execution_count": null,
   "metadata": {
    "pycharm": {
     "name": "#%%\n"
    }
   },
   "outputs": [],
   "source": [
    "#getVenuesByPublisherId --> deve diventare il metodo della sua classe\n",
    "\n",
    "query4= \"SELECT* FROM publishers WHERE crossref='crossref:78'\"\n",
    "result4=cursor.execute(query4).fetchall()\n",
    "df_getVenuesByPublisherId= pd.DataFrame(result4)\n",
    "\n",
    "df_getVenuesByPublisherId"
   ]
  },
  {
   "cell_type": "code",
   "execution_count": null,
   "metadata": {
    "pycharm": {
     "name": "#%%\n"
    }
   },
   "outputs": [],
   "source": [
    "#getPublicationInVenue --> deve diventare il metodo della sua classe\n",
    "query5= \"SELECT* FROM venuesid_json WHERE issn='issn:0944-1344' \"\n",
    "result5=cursor.execute(query5).fetchall()\n",
    "df_getPublicationInVenue= pd.DataFrame(result5)\n",
    "\n",
    "df_getPublicationInVenue"
   ]
  },
  {
   "cell_type": "code",
   "execution_count": null,
   "metadata": {
    "pycharm": {
     "name": "#%%\n"
    }
   },
   "outputs": [],
   "source": [
    "#getJournalArticlesInIssue --> by the way it should be programmed as method \n",
    "#in order to use in Class\n",
    "\n",
    "query8= \"SELECT doi FROM venuesid_json WHERE issn='issn:2164-5515'\"\n",
    "result8=cursor.execute(query8).fetchall()\n",
    "\n",
    "for element in result8:\n",
    "  query9= \"SELECT* FROM csvfile WHERE type='journal-article' AND issue='9' AND volume='17' AND id=? \"\n",
    "  result9=cursor.execute(query9, element).fetchall()\n",
    "df_getJournalArticlesInIssue= pd.DataFrame(result9)\n",
    "\n",
    "df_getJournalArticlesInIssue"
   ]
  },
  {
   "cell_type": "code",
   "execution_count": null,
   "metadata": {
    "pycharm": {
     "name": "#%%\n"
    }
   },
   "outputs": [],
   "source": [
    "#getJournalArticlesInVolume --> by the way it should be programmed as method \n",
    "#in order to use in Class\n",
    "\n",
    "query10= \"SELECT doi FROM venuesid_json WHERE issn='issn:2164-5515'\"\n",
    "result10=cursor.execute(query10).fetchall()\n",
    "\n",
    "for element in result10:\n",
    "  query11= \"SELECT* FROM csvfile WHERE type='journal-article' AND volume='17' AND id=? \"\n",
    "  result11=cursor.execute(query11, element).fetchall()\n",
    "df_getJournalArticlesInVolume= pd.DataFrame(result11)\n",
    "\n",
    "df_getJournalArticlesInVolume"
   ]
  },
  {
   "cell_type": "markdown",
   "metadata": {
    "pycharm": {
     "name": "#%% md\n"
    }
   },
   "source": [
    "#### some problems with implementing these:\n",
    "\n",
    "##### getDistinctPublisherOfPublications\n",
    "##### getDistinctPublisherOfPublications\n",
    "##### getMostCitedPublication\n",
    "####  getMostCitedVenue\n",
    "\n"
   ]
  },
  {
   "cell_type": "code",
   "execution_count": null,
   "metadata": {
    "pycharm": {
     "name": "#%%\n"
    }
   },
   "outputs": [],
   "source": []
  }
 ],
 "metadata": {
  "interpreter": {
   "hash": "9650cb4e16cdd4a8e8e2d128bf38d875813998db22a3c986335f89e0cb4d7bb2"
  },
  "kernelspec": {
   "display_name": "Python 3.8.8 64-bit",
   "language": "python",
   "name": "python3"
  },
  "language_info": {
   "codemirror_mode": {
    "name": "ipython",
    "version": 3
   },
   "file_extension": ".py",
   "mimetype": "text/x-python",
   "name": "python",
   "nbconvert_exporter": "python",
   "pygments_lexer": "ipython3",
   "version": "3.8.8"
  },
  "orig_nbformat": 4
 },
 "nbformat": 4,
 "nbformat_minor": 2
}